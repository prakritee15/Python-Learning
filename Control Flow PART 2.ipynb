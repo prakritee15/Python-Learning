{
 "cells": [
  {
   "cell_type": "code",
   "execution_count": 2,
   "metadata": {},
   "outputs": [
    {
     "name": "stdout",
     "output_type": "stream",
     "text": [
      "1\n",
      "2\n",
      "stop\n",
      "The loop will NOT continue\n"
     ]
    }
   ],
   "source": [
    "## Break statement basic Touch\n",
    "my_list = [1,2,\"stop\",3.42]\n",
    "for current_element in my_list:\n",
    "    print(current_element)\n",
    "    if current_element == \"stop\":\n",
    "        print(\"The loop will NOT continue\")\n",
    "        break"
   ]
  },
  {
   "cell_type": "markdown",
   "metadata": {},
   "source": [
    "### BREAK Statment:"
   ]
  },
  {
   "cell_type": "code",
   "execution_count": 8,
   "metadata": {},
   "outputs": [
    {
     "name": "stdout",
     "output_type": "stream",
     "text": [
      "1\n",
      "1\n",
      "2\n",
      "3\n",
      "stop\n",
      "THE LOOP WILL STOP!\n",
      "2\n",
      "1\n",
      "2\n",
      "3\n",
      "stop\n",
      "THE LOOP WILL STOP!\n",
      "3\n",
      "1\n",
      "2\n",
      "3\n",
      "stop\n",
      "THE LOOP WILL STOP!\n",
      "stop\n",
      "1\n",
      "2\n",
      "3\n",
      "stop\n",
      "THE LOOP WILL STOP!\n",
      "5\n",
      "1\n",
      "2\n",
      "3\n",
      "stop\n",
      "THE LOOP WILL STOP!\n",
      "stop\n",
      "1\n",
      "2\n",
      "3\n",
      "stop\n",
      "THE LOOP WILL STOP!\n",
      "4.1\n",
      "1\n",
      "2\n",
      "3\n",
      "stop\n",
      "THE LOOP WILL STOP!\n",
      "This is outside the loop\n"
     ]
    }
   ],
   "source": [
    "my_list = [1,2,3,\"stop\",5,\"stop\",4.1]\n",
    "for i in my_list:\n",
    "    print(i)\n",
    "    for i in my_list:\n",
    "        print(i)\n",
    "        if i == \"stop\":\n",
    "            print(\"THE LOOP WILL STOP!\")\n",
    "            break\n",
    "    \n",
    "print(\"This is outside the loop\")        "
   ]
  },
  {
   "cell_type": "code",
   "execution_count": 9,
   "metadata": {},
   "outputs": [
    {
     "name": "stdout",
     "output_type": "stream",
     "text": [
      "1\n",
      "2\n",
      "3\n",
      "stop\n",
      "the loop will stop!\n"
     ]
    }
   ],
   "source": [
    "index = 0\n",
    "while index < len(my_list):\n",
    "    \n",
    "    current_element = my_list[index]\n",
    "    print(current_element)\n",
    "    if current_element == \"stop\":\n",
    "        print(\"the loop will stop!\")\n",
    "        break\n",
    "    index += 1"
   ]
  },
  {
   "cell_type": "code",
   "execution_count": 10,
   "metadata": {},
   "outputs": [
    {
     "name": "stdout",
     "output_type": "stream",
     "text": [
      "3\n",
      "2\n",
      "1\n"
     ]
    }
   ],
   "source": [
    "##QUIZ\n",
    "counter = 3\n",
    "while counter <= 6:\n",
    "    print(counter)\n",
    "    if counter == 1:\n",
    "        break\n",
    "    counter -=1\n",
    "### The code will break once it reaches \"break\" keyword when counter is 1. So, we won't have an infinite loop    "
   ]
  },
  {
   "cell_type": "code",
   "execution_count": 15,
   "metadata": {},
   "outputs": [
    {
     "name": "stdout",
     "output_type": "stream",
     "text": [
      "Not yet. Still searching..\n",
      "Not yet. Still searching..\n",
      "Not yet. Still searching..\n",
      "Not yet. Still searching..\n",
      "Not yet. Still searching..\n",
      "Not yet. Still searching..\n",
      "Not yet. Still searching..\n",
      "Not yet. Still searching..\n",
      "Not yet. Still searching..\n",
      "Not yet. Still searching..\n",
      "Found them! Stop the code!\n"
     ]
    }
   ],
   "source": [
    "###Exercise:\n",
    "web_list = [ \"start\" , 10313 , 1415 , \"afvav\", \"vbagaga\", \"mid\", 3.415, {\"A\":12121}, {\"xava\":11} , 1.21, \"end\"]\n",
    "\n",
    "for current_element in web_list:\n",
    "    if current_element == \"end\":\n",
    "        print(\"Found them! Stop the code!\")\n",
    "        break\n",
    "    else:\n",
    "        print(\"Not yet. Still searching..\")\n",
    "         "
   ]
  },
  {
   "cell_type": "code",
   "execution_count": 16,
   "metadata": {},
   "outputs": [
    {
     "name": "stdout",
     "output_type": "stream",
     "text": [
      "Not yet. Still searching..\n",
      "Not yet. Still searching..\n",
      "Not yet. Still searching..\n",
      "Not yet. Still searching..\n",
      "Not yet. Still searching..\n",
      "Not yet. Still searching..\n",
      "Not yet. Still searching..\n",
      "Not yet. Still searching..\n",
      "Not yet. Still searching..\n",
      "Not yet. Still searching..\n",
      "Found them! Stop the code!\n"
     ]
    }
   ],
   "source": [
    "web_list = [ \"start\" , 10313 , 1415 , \"afvav\", \"vbagaga\", \"mid\", 3.415, {\"A\":12121}, {\"xava\":11} , 1.21, \"end\"]\n",
    " \n",
    "for element in web_list:\n",
    "    if element == \"end\":\n",
    "        print(\"Found them! Stop the code!\")\n",
    "        break\n",
    "    else:\n",
    "        print(\"Not yet. Still searching..\")"
   ]
  },
  {
   "cell_type": "markdown",
   "metadata": {},
   "source": [
    "### CONTINUE Statement:\n",
    "-> To skip some iterations from a for/while loop if some condition happens.\n",
    "-> We use continue statement!"
   ]
  },
  {
   "cell_type": "code",
   "execution_count": 1,
   "metadata": {},
   "outputs": [
    {
     "name": "stdout",
     "output_type": "stream",
     "text": [
      "1\n",
      "2\n",
      "The loop will NOT continue\n",
      "3.42\n"
     ]
    }
   ],
   "source": [
    "## Continue statement basic Touch\n",
    "my_list = [1,2,\"stop\",3.42]\n",
    "for current_element in my_list:\n",
    "    #print(current_element)\n",
    "    if current_element == \"stop\":\n",
    "        print(\"The loop will NOT continue\")\n",
    "        continue\n",
    "    print(current_element)   "
   ]
  },
  {
   "cell_type": "code",
   "execution_count": 3,
   "metadata": {},
   "outputs": [
    {
     "name": "stdout",
     "output_type": "stream",
     "text": [
      "1\n",
      "3.1\n"
     ]
    }
   ],
   "source": [
    "##Break statement:\n",
    "my_list = [1,3.1, 'stop', 5, 'stop',2]\n",
    "for i in my_list:\n",
    "    if i =='stop':\n",
    "        break\n",
    "    print(i)\n",
    "    "
   ]
  },
  {
   "cell_type": "code",
   "execution_count": 4,
   "metadata": {},
   "outputs": [
    {
     "name": "stdout",
     "output_type": "stream",
     "text": [
      "1\n",
      "3.1\n",
      "5\n",
      "2\n"
     ]
    }
   ],
   "source": [
    "##CONTINUE statement with the same example as above.\n",
    "my_list = [1,3.1, 'stop', 5, 'stop',2]\n",
    "for i in my_list:\n",
    "    if i =='stop':\n",
    "        continue\n",
    "    print(i)"
   ]
  },
  {
   "cell_type": "code",
   "execution_count": null,
   "metadata": {},
   "outputs": [],
   "source": [
    "##QUIZ\n",
    "counter = 3\n",
    "while counter <= 6:\n",
    "    print(counter)\n",
    "    if counter == 1:\n",
    "        continue\n",
    "    counter -=1\n",
    "    \n",
    "##Because the continue statement will be executed when we have counter = 1, \n",
    "##so it will skip the decrement line (counter -=1 ). \n",
    "##The next iteration we would have counter = 1, and so on.    "
   ]
  },
  {
   "cell_type": "code",
   "execution_count": null,
   "metadata": {},
   "outputs": [],
   "source": [
    "### EXAMPLE\n",
    "list_ages = [10 , 11 , 19 , 7 , 8 , 24 , 91 , 74 , 25 , 53 , 41 , 50 , 63 , 86]\n",
    "ages_even = []\n",
    "for current_age in list_ages:\n",
    "    if current_age % 2 == 1:\n",
    "        continue\n",
    "    ages_even.append(current_age)"
   ]
  },
  {
   "cell_type": "markdown",
   "metadata": {},
   "source": [
    "### ZIP FUNCTION:\n",
    "-> We use ZIP function to create iterators when we have a couple of iterables of them.\n",
    "\n",
    "#### MULTIPLE ITERABLES:\n",
    "-> To iterate over multiples iterables at the same time, we use zip function also!"
   ]
  },
  {
   "cell_type": "code",
   "execution_count": 3,
   "metadata": {},
   "outputs": [
    {
     "name": "stdout",
     "output_type": "stream",
     "text": [
      "[(1, 5), (2, 1), ('stop', 10), (3.42, 3)]\n"
     ]
    }
   ],
   "source": [
    "first_list = [1,2,\"stop\",3.42]\n",
    "second_list =[5,1,10,3]\n",
    "zipped_lists = zip(first_list, second_list)\n",
    "print(list(zipped_lists))"
   ]
  },
  {
   "cell_type": "code",
   "execution_count": 4,
   "metadata": {},
   "outputs": [
    {
     "name": "stdout",
     "output_type": "stream",
     "text": [
      "1 5\n",
      "2 1\n",
      "stop 10\n",
      "3.42 3\n"
     ]
    }
   ],
   "source": [
    "##MULTIPLE ITERABLES:\n",
    "first_list = [1,2,\"stop\",3.42]\n",
    "second_list =[5,1,10,3]\n",
    "for e1, e2 in zip(first_list, second_list):\n",
    "    print(e1, e2)\n"
   ]
  },
  {
   "cell_type": "code",
   "execution_count": 21,
   "metadata": {},
   "outputs": [],
   "source": [
    "list1 = [1,3,2] ##iterable\n",
    "list2 = [5,1,4]  ##iterable\n",
    "zip_list = zip(list1, list2)  ##iterable"
   ]
  },
  {
   "cell_type": "code",
   "execution_count": 18,
   "metadata": {},
   "outputs": [
    {
     "name": "stdout",
     "output_type": "stream",
     "text": [
      "[(1, 5), (3, 1), (2, 4)]\n"
     ]
    }
   ],
   "source": [
    "#print(zip_list)\n",
    "##It will show some file location. To show the value we have to convert it to iterables that is lists.\n",
    "print(list(zip_list))"
   ]
  },
  {
   "cell_type": "code",
   "execution_count": 22,
   "metadata": {},
   "outputs": [
    {
     "name": "stdout",
     "output_type": "stream",
     "text": [
      "1 5\n",
      "3 1\n",
      "2 4\n"
     ]
    }
   ],
   "source": [
    "for i1, i2 in zip_list:\n",
    "    print(i1,i2)"
   ]
  },
  {
   "cell_type": "code",
   "execution_count": 23,
   "metadata": {},
   "outputs": [
    {
     "name": "stdout",
     "output_type": "stream",
     "text": [
      "1 quiz 6\n",
      "2 4 8\n"
     ]
    }
   ],
   "source": [
    "##QUIZ\n",
    "list_quiz = [ 1, 2, 10 , 5]\n",
    "dict_quiz = { \"quiz\": 3 , 4 : 9}\n",
    "tuple_quiz = (6 , 8 , 12 )\n",
    "for x,y,z in zip(list_quiz, dict_quiz , tuple_quiz):\n",
    "     print(x,y,z)\n",
    "##Using the zip function in a loop will stop once one of the iterables is done.        "
   ]
  },
  {
   "cell_type": "code",
   "execution_count": 26,
   "metadata": {},
   "outputs": [],
   "source": [
    "##EXERCISE:\n",
    "students_names = [ \"Micheal Ford\", \"John Buch\" , \"Isra Raul\", \"Messi Ronaldo\"]\n",
    " \n",
    "students_grades = [ 80 , 53 , 90 , 100]\n",
    " \n",
    "names_grades = {}\n",
    " \n",
    "for x , y in zip(students_names , students_grades):\n",
    "    names_grades[x] = y"
   ]
  },
  {
   "cell_type": "code",
   "execution_count": null,
   "metadata": {},
   "outputs": [],
   "source": []
  },
  {
   "cell_type": "code",
   "execution_count": null,
   "metadata": {},
   "outputs": [],
   "source": []
  },
  {
   "cell_type": "code",
   "execution_count": null,
   "metadata": {},
   "outputs": [],
   "source": []
  },
  {
   "cell_type": "code",
   "execution_count": null,
   "metadata": {},
   "outputs": [],
   "source": []
  },
  {
   "cell_type": "code",
   "execution_count": null,
   "metadata": {},
   "outputs": [],
   "source": []
  }
 ],
 "metadata": {
  "kernelspec": {
   "display_name": "Python 3",
   "language": "python",
   "name": "python3"
  },
  "language_info": {
   "codemirror_mode": {
    "name": "ipython",
    "version": 3
   },
   "file_extension": ".py",
   "mimetype": "text/x-python",
   "name": "python",
   "nbconvert_exporter": "python",
   "pygments_lexer": "ipython3",
   "version": "3.8.5"
  }
 },
 "nbformat": 4,
 "nbformat_minor": 4
}
