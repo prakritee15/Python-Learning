{
 "cells": [
  {
   "cell_type": "markdown",
   "metadata": {},
   "source": [
    "## Python Advanced Functions Section Overview:\n",
    "- Lambda Functions\n",
    "- Functions *args and **kwargs\n",
    "- Iterators\n",
    "- Generators and Yield Keyword\n",
    "- Map Functions\n",
    "- Filter Functions"
   ]
  },
  {
   "cell_type": "markdown",
   "metadata": {},
   "source": [
    "### Lamba Functions:\n",
    "It is One line functions.\n",
    "The division function we discussed earlier can be simplified int one line.\n",
    "We can do so by using lambda keyword as follows:\n",
    "\n",
    "   def div(x,y)              div=lambda x,y : x/y\n",
    "       return x/y            print(div(3,2))\n",
    "   print(div(3,2))    \n",
    "   \n",
    "#### Lambda Function Syntax:\n",
    "We first use the lamda keyword, followed by the function variable.\n",
    "Then, we use the colon, followed by the function body.\n",
    "Syntax:\n",
    "        div = lambda x,y : x/y\n",
    "        print(div(3,2))\n",
    "        \n",
    "#### Lamda Function Usage:\n",
    "Lambda functions are mainly used for Small Simple functions.\n",
    "Also, it can be used as an Argument for Higher-Order functions.\n",
    "Higher order functions take Functions as Arguments.\n",
    "Examples are Filter and Map functions, whoch we will discuss in the next two lessons.\n"
   ]
  },
  {
   "cell_type": "code",
   "execution_count": 3,
   "metadata": {},
   "outputs": [
    {
     "name": "stdout",
     "output_type": "stream",
     "text": [
      "12\n"
     ]
    }
   ],
   "source": [
    "def mul(x,y):\n",
    "    return x*y\n",
    "print(mul(3,4))"
   ]
  },
  {
   "cell_type": "code",
   "execution_count": 5,
   "metadata": {},
   "outputs": [
    {
     "name": "stdout",
     "output_type": "stream",
     "text": [
      "<function mul at 0x00000190171EE670>\n"
     ]
    }
   ],
   "source": [
    "print(mul)"
   ]
  },
  {
   "cell_type": "code",
   "execution_count": 6,
   "metadata": {},
   "outputs": [
    {
     "name": "stdout",
     "output_type": "stream",
     "text": [
      "12\n"
     ]
    }
   ],
   "source": [
    "mul_lambda = lambda x,y : x*y\n",
    "print(mul_lambda(3,4))"
   ]
  },
  {
   "cell_type": "code",
   "execution_count": 7,
   "metadata": {},
   "outputs": [
    {
     "name": "stdout",
     "output_type": "stream",
     "text": [
      "<function <lambda> at 0x00000190171EE700>\n"
     ]
    }
   ],
   "source": [
    "print(mul_lambda)"
   ]
  },
  {
   "cell_type": "markdown",
   "metadata": {},
   "source": [
    "##### Excercise:\n",
    "How to write the following function in one line?\n",
    "\n",
    "def multiply(x,y):\n",
    "    res = x*y\n",
    "    return res\n",
    "print(multiply(2,5))"
   ]
  },
  {
   "cell_type": "code",
   "execution_count": 17,
   "metadata": {},
   "outputs": [
    {
     "name": "stdout",
     "output_type": "stream",
     "text": [
      "10\n"
     ]
    }
   ],
   "source": [
    "#solution\n",
    "\n",
    "multiply = lambda x,y : x*y\n",
    "print(multiply(2,5))"
   ]
  },
  {
   "cell_type": "markdown",
   "metadata": {},
   "source": [
    "##### Lambda Functions Exercise:\n",
    "Implement a lambda function called lam_fun that takes One input. You call this variable whatever you want.\n",
    "\n",
    "Your task is to use this lam_fun to add 6 to the variable you created."
   ]
  },
  {
   "cell_type": "code",
   "execution_count": 16,
   "metadata": {},
   "outputs": [
    {
     "name": "stdout",
     "output_type": "stream",
     "text": [
      "16\n"
     ]
    }
   ],
   "source": [
    "#solution:\n",
    "lam_fun = lambda lam_input : 6 + lam_input\n",
    "lam_input = 10\n",
    "\n",
    "## Don't change this\n",
    "lam_output = lam_fun(lam_input)\n",
    "print(lam_output)\n"
   ]
  },
  {
   "cell_type": "markdown",
   "metadata": {},
   "source": [
    "#### Functions args and kwargs:\n",
    "##### Function Input Flexibility:\n",
    "Sometimes, we don't know Beforehand how many inputs a function should take.\n",
    "For example, we can have a mutilplication function that should Multiple all its input, which can be 2,3,4, or more.\n",
    "The straightforward way to do it is to use a list as the function input.\n",
    "\n",
    "      def multiply(input_list):\n",
    "          result = 1\n",
    "          for element in input_list:\n",
    "              result *= element\n",
    "          return result\n",
    "      my_list = [1,2,3]\n",
    "      print(multiply(my_list))\n",
    "\n",
    "###### args:\n",
    "However, there is a more Pythonic way to do so that, so we don't need to worry defining a list.\n",
    "This is by using the args as an argument.\n",
    "The asterik is called the unpacking operator.\n",
    "\n",
    "        def multiply(*args):\n",
    "            result = 1\n",
    "            for element in args:\n",
    "                results *= element\n",
    "            return result\n",
    "        print(multiply(1,2,3))    \n",
    "        \n",
    "Notice that we pass the input as positional arguments-tuple-, and not a list.\n",
    "Also note that it doesn't need to be called args this is just a convection.\n",
    "        def multiply(*x):\n",
    "            result = 1\n",
    "            for element in x:\n",
    "                results *= element\n",
    "            return result\n",
    "        print(multiply(1,2,3))\n",
    "        \n",
    "##### kwargs:\n",
    "If you have keywords or named arguments, then you can use kwargs, which is short for Keyword arguments.\n",
    "We define it by using double asterisk, which is also an unpacking operator.\n",
    "\n",
    "         def display(**kwargs):\n",
    "             for k,e in zip(kwargs.key(), kwargs.values()):\n",
    "             print(k,e)\n",
    "         display(x=\"Pkt\", y=\"K\", z=\"Dev\")\n",
    "         \n",
    "Notice that pass the inputs as a dictionary.\n",
    "Also note that it doesn't need to be called kwargs, this is just a convention.\n",
    "\n",
    "#### Function Input Ordering:\n",
    ". The correct ordering is:\n",
    " 1. Standard input\n",
    "     a. Required input\n",
    "     b. OPtional input\n",
    " 2. Positional input (*args)\n",
    " 3. Keyword input (**kwargs)\n",
    " \n",
    "           def func_exmp(x,y,z=3, *args, **kwargs):\n"
   ]
  },
  {
   "cell_type": "code",
   "execution_count": 18,
   "metadata": {},
   "outputs": [],
   "source": [
    "def print_input(*args):\n",
    "    for i in args:\n",
    "        print(i)"
   ]
  },
  {
   "cell_type": "code",
   "execution_count": 20,
   "metadata": {},
   "outputs": [
    {
     "name": "stdout",
     "output_type": "stream",
     "text": [
      "1\n",
      "2\n",
      "5\n"
     ]
    }
   ],
   "source": [
    "print_input(1,2,5)"
   ]
  },
  {
   "cell_type": "code",
   "execution_count": 21,
   "metadata": {},
   "outputs": [],
   "source": [
    "#kwargs:\n",
    "def print_input2(**k):\n",
    "    for key , value in zip(k.keys(), k.values()):\n",
    "        print(key, value)"
   ]
  },
  {
   "cell_type": "code",
   "execution_count": 22,
   "metadata": {},
   "outputs": [
    {
     "name": "stdout",
     "output_type": "stream",
     "text": [
      "x Pkt\n",
      "y Dev\n"
     ]
    }
   ],
   "source": [
    "print_input2(x=\"Pkt\", y=\"Dev\")"
   ]
  },
  {
   "cell_type": "code",
   "execution_count": 24,
   "metadata": {},
   "outputs": [
    {
     "ename": "SyntaxError",
     "evalue": "non-default argument follows default argument (<ipython-input-24-93dc72db4f9f>, line 1)",
     "output_type": "error",
     "traceback": [
      "\u001b[1;36m  File \u001b[1;32m\"<ipython-input-24-93dc72db4f9f>\"\u001b[1;36m, line \u001b[1;32m1\u001b[0m\n\u001b[1;33m    def print_input3(y = 1,x):\u001b[0m\n\u001b[1;37m                     ^\u001b[0m\n\u001b[1;31mSyntaxError\u001b[0m\u001b[1;31m:\u001b[0m non-default argument follows default argument\n"
     ]
    }
   ],
   "source": [
    "def print_input3(y = 1,x):\n",
    "    print(x)\n",
    "    print(y)\n",
    "    "
   ]
  },
  {
   "cell_type": "code",
   "execution_count": 26,
   "metadata": {},
   "outputs": [],
   "source": [
    "def print_input3(y,x = 1):\n",
    "    print(x)\n",
    "    print(y)\n",
    "    "
   ]
  },
  {
   "cell_type": "code",
   "execution_count": 27,
   "metadata": {},
   "outputs": [],
   "source": [
    "def print_input3(*z, y,x = 1):\n",
    "    print(x)\n",
    "    print(y)\n",
    "    print(z)"
   ]
  },
  {
   "cell_type": "code",
   "execution_count": 28,
   "metadata": {},
   "outputs": [
    {
     "name": "stdout",
     "output_type": "stream",
     "text": [
      "5\n",
      "1\n",
      "(1, 2, 3, 4)\n"
     ]
    }
   ],
   "source": [
    "print_input3(1,2,3,4, y=1, x=5)"
   ]
  },
  {
   "cell_type": "markdown",
   "metadata": {},
   "source": [
    "#### QUIZ:\n",
    "Question 1:\n",
    "What is the correct header for the following function:\n",
    "Ans: def app ( input_1, input_2, input_3 = 10, *inputs_4, **inputs_5)\n",
    "\n",
    "\n",
    "#### Excercise 1:\n",
    "Implement a function called multiply_all that can take any number of inputs and multiplies all of them.\n",
    "\n",
    "Use the *args keyword to do so.\n"
   ]
  },
  {
   "cell_type": "code",
   "execution_count": 43,
   "metadata": {},
   "outputs": [],
   "source": [
    "#soltuion:\n",
    "def multiply_all(*args):\n",
    "    m = 1\n",
    "    for i in args:\n",
    "        m*=i\n",
    "    return m"
   ]
  },
  {
   "cell_type": "code",
   "execution_count": 45,
   "metadata": {},
   "outputs": [
    {
     "data": {
      "text/plain": [
       "24"
      ]
     },
     "execution_count": 45,
     "metadata": {},
     "output_type": "execute_result"
    }
   ],
   "source": [
    "multiply_all(2,3,4)"
   ]
  },
  {
   "cell_type": "markdown",
   "metadata": {},
   "source": [
    "#### :\n"
   ]
  },
  {
   "cell_type": "code",
   "execution_count": null,
   "metadata": {},
   "outputs": [],
   "source": []
  },
  {
   "cell_type": "code",
   "execution_count": null,
   "metadata": {},
   "outputs": [],
   "source": []
  },
  {
   "cell_type": "code",
   "execution_count": null,
   "metadata": {},
   "outputs": [],
   "source": []
  },
  {
   "cell_type": "code",
   "execution_count": null,
   "metadata": {},
   "outputs": [],
   "source": []
  }
 ],
 "metadata": {
  "kernelspec": {
   "display_name": "Python 3",
   "language": "python",
   "name": "python3"
  },
  "language_info": {
   "codemirror_mode": {
    "name": "ipython",
    "version": 3
   },
   "file_extension": ".py",
   "mimetype": "text/x-python",
   "name": "python",
   "nbconvert_exporter": "python",
   "pygments_lexer": "ipython3",
   "version": "3.8.8"
  }
 },
 "nbformat": 4,
 "nbformat_minor": 4
}
