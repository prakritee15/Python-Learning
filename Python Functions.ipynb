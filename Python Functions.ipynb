{
 "cells": [
  {
   "cell_type": "markdown",
   "metadata": {},
   "source": [
    "### Types of functions:\n",
    "Function help us to broke our program into smaller chunks\n",
    "1. Help Funtion:\n",
    "2. Defining functions:\n",
    "3. Variable scope(Local vs Global):\n",
    "4. Doc string:\n"
   ]
  },
  {
   "cell_type": "markdown",
   "metadata": {},
   "source": [
    "### Intro to functions:\n",
    "Functions take some inputs, do some logic on them, and return an output.\n",
    "Imagine that you want to calculat the sume of two variables.\n",
    "What if you want to repeat the process multiple times?\n",
    "You want to have it as a function in your code.\n",
    "\n",
    "#### Help function:\n",
    "Python has hundreds of built-in functions.\n",
    "Each funtion can have ore or more inputs and outputs.\n",
    "No need to remeber how to use any of them.\n",
    "Use Python **help** function.\n",
    "\n",
    "##### For example:\n",
    "If we write help(print), the output will be as follows:\n",
    "\n",
    "Help on built-in function print in module builtins:\n",
    "\n",
    "print(...)\n",
    "    print(value, ..., sep=' ', end='\\n', file=sys.stdout, flush=False)\n",
    "    \n",
    "    Prints the values to a stream, or to sys.stdout by default.\n",
    "    Optional keyword arguments:\n",
    "    file:  a file-like object (stream); defaults to the current sys.stdout.\n",
    "    sep:   string inserted between values, default a space.\n",
    "    end:   string appended after the last value, default a newline.\n",
    "    flush: whether to forcibly flush the stream.\n",
    "    \n",
    "Most of the famous libraries have their help functions.    \n"
   ]
  },
  {
   "cell_type": "code",
   "execution_count": 1,
   "metadata": {},
   "outputs": [
    {
     "name": "stdout",
     "output_type": "stream",
     "text": [
      "Help on built-in function print in module builtins:\n",
      "\n",
      "print(...)\n",
      "    print(value, ..., sep=' ', end='\\n', file=sys.stdout, flush=False)\n",
      "    \n",
      "    Prints the values to a stream, or to sys.stdout by default.\n",
      "    Optional keyword arguments:\n",
      "    file:  a file-like object (stream); defaults to the current sys.stdout.\n",
      "    sep:   string inserted between values, default a space.\n",
      "    end:   string appended after the last value, default a newline.\n",
      "    flush: whether to forcibly flush the stream.\n",
      "\n"
     ]
    }
   ],
   "source": [
    "help(print)"
   ]
  },
  {
   "cell_type": "markdown",
   "metadata": {},
   "source": [
    "### Function Header:\n",
    "Python uses the keyword **def** to **define** the function.\n",
    "Functions can have **multiple** inputs and/or outputs.\n",
    "The following is an example of a function header.\n",
    "\n",
    "      def multiply(x,y):\n",
    "      \n",
    "You can have optional inputs by assigning the value of the variable in function header.\n",
    "The code will throw an error if you don't provide x or y but not z.\n",
    "\n",
    "      def multiply(x,y,z=1)\n",
    "      \n",
    "#### Function Body:\n",
    "The function body os idented in a code block, like loops and conditional stetements.\n",
    "We can return one or more outputs using **return**.\n",
    "\n",
    "       def multiply(x,y):\n",
    "         result = x*y\n",
    "         return result\n",
    "         \n",
    "#### Function Naming:\n",
    "Can't use spaces or special characters.\n",
    "Can't use Pythong keywords or built-in functions names, which we can find in: https://docs.python.org/3/library/functions.html#help\n",
    "Use descriptive names for the function name, inputs, and outputs."
   ]
  },
  {
   "cell_type": "code",
   "execution_count": 2,
   "metadata": {},
   "outputs": [],
   "source": [
    "def multiply(first_num, second_num):\n",
    "    result = first_num *second_num\n",
    "    return result"
   ]
  },
  {
   "cell_type": "code",
   "execution_count": 14,
   "metadata": {},
   "outputs": [
    {
     "name": "stdout",
     "output_type": "stream",
     "text": [
      "36\n"
     ]
    }
   ],
   "source": [
    "res = multiply(6,6)\n",
    "print(res)"
   ]
  },
  {
   "cell_type": "markdown",
   "metadata": {},
   "source": [
    "##### Functions Exercise 1\n",
    " Implement a function that just prints *Hello World*\n",
    " The function takes **no input** and return **no outputs**. It just prints Hello World, call the function hello_world:"
   ]
  },
  {
   "cell_type": "code",
   "execution_count": 18,
   "metadata": {},
   "outputs": [],
   "source": [
    "def hello_world():\n",
    "    print(\"Hello World\")"
   ]
  },
  {
   "cell_type": "markdown",
   "metadata": {},
   "source": [
    "##### Functions Exercise 2:\n",
    "Implements a function called sum_func that takes two inputs and returns their sum.\n",
    "Name your inputs input_1 and input_2\n",
    "Call your function and store the output in a variable called result:"
   ]
  },
  {
   "cell_type": "code",
   "execution_count": 16,
   "metadata": {},
   "outputs": [],
   "source": [
    "#SOLUTION 1\n",
    "input_1 = 10 ## Don't modify this \n",
    "input_2 = 40 ## Don't modify this. \n",
    "\n",
    "def sum_fun(input_1, input_2):\n",
    "    result = input_1 + input_2\n",
    "    return result\n"
   ]
  },
  {
   "cell_type": "code",
   "execution_count": 24,
   "metadata": {},
   "outputs": [],
   "source": [
    "#SOLUTION 2:\n",
    "\n",
    "input_1 = 10 ## Don't modify this \n",
    "input_2 = 40 ## Don't modify this. \n",
    " \n",
    "## TODO:\n",
    "## Implement a function called sum_fun  that takes two inputs and returns their sum.\n",
    " \n",
    "def sum_fun(input_1 , input_2 ):\n",
    "    return input_1 + input_2\n",
    "    \n",
    "result_sum = sum_fun(input_1 , input_2 )"
   ]
  },
  {
   "cell_type": "markdown",
   "metadata": {},
   "source": [
    "##### Functions Exercise 3:\n",
    "Implement a function called raise_to_power that takes two inputs, a number and a power that this number should be raised to.\n",
    "\n",
    "For example, if we call raise_to_power(10,2), it should return 100. If we call it raise_to_power(3,3), it should return 27.\n",
    "Name your inputs number and power:"
   ]
  },
  {
   "cell_type": "code",
   "execution_count": 21,
   "metadata": {},
   "outputs": [],
   "source": [
    "#SOLUTION 1:\n",
    "power = 2\n",
    "number = 4\n",
    "\n",
    "def raise_to_power(number, power):\n",
    "    result = number **power\n",
    "    return result"
   ]
  },
  {
   "cell_type": "code",
   "execution_count": 23,
   "metadata": {},
   "outputs": [],
   "source": [
    "#SOLUTION 2:\n",
    "\n",
    "power = 2\n",
    "number = 4\n",
    "\n",
    "def raise_to_power(number, power):\n",
    "    return number**power"
   ]
  },
  {
   "cell_type": "markdown",
   "metadata": {},
   "source": [
    "##### Functions Exercise 4:\n",
    "\n",
    "Implement a function called link_names_grades that takes two lists called students_names and students_grades, where the first one contains the students names and the second one contains the students grades.\n",
    "\n",
    "This function should link each student with his grade in a dictionary called names_grades, which is the output of the function:"
   ]
  },
  {
   "cell_type": "code",
   "execution_count": 27,
   "metadata": {},
   "outputs": [],
   "source": [
    "#SOLUTION:\n",
    "students_names = [ \"Micheal Ford\", \"John Buch\" , \"Isra Raul\", \"Messi Ronaldo\"]\n",
    "\n",
    "students_grades = [ 80 , 53 , 90 , 100]\n",
    "\n",
    "def link_names_grades(students_names , students_grades ):\n",
    "    names_grades = {}\n",
    "    for x , y in zip(students_names , students_grades):\n",
    "        names_grades[x] = y\n",
    "    return names_grades"
   ]
  },
  {
   "cell_type": "markdown",
   "metadata": {},
   "source": [
    "##### Functions Exercise 5:\n",
    "\n",
    "Implement a function called filter_even_odd that should take a list of integers called numbers and another input called even_or_odd to specify if we want the even or odd numbers.\n",
    "\n",
    "If even_or_odd id False, then we will choose the EVEN numbers. If even_or_odd is True, we will choose the ODD numbers.\n",
    "\n",
    "We store the output in a variable called filtered_list.\n",
    "\n",
    "**For Example**:\n",
    "numbers = [1,20,3,16]\n",
    "even_or_odd = True\n",
    "filtered_list = filter_even_odd(numbers, even_or_odd)\n",
    "\n",
    "Then, filtered_list SHOULD be [1,3]:"
   ]
  },
  {
   "cell_type": "code",
   "execution_count": 26,
   "metadata": {},
   "outputs": [],
   "source": [
    "#SOLUTION:\n",
    "numbers = [10, 20, 17, 13]\n",
    "even_or_odd = True\n",
    " \n",
    "def filter_even_odd(numbers , even_or_odd):\n",
    "    filtered_list  = []\n",
    "    for i in numbers:\n",
    "        if i % 2 == even_or_odd:\n",
    "            filtered_list.append(i)\n",
    "    return filtered_list"
   ]
  },
  {
   "cell_type": "markdown",
   "metadata": {},
   "source": [
    "#### Variable Scope:\n",
    "\n",
    "Not all variables can be accessed all the time.\n",
    "There is a scope for each variable, either local or global.\n",
    "Global variables can be accessed and modified from anywhere in the code.\n",
    "Local variables can only be accessed from specific functions.\n",
    "\n",
    "##### Local Variables:\n",
    "\n",
    "Notice the following code:\n",
    "\n",
    "       def multiply(x,y):\n",
    "         result = x*y\n",
    "         return result\n",
    "       print(result)\n",
    "       \n",
    "It will throw an error, as result is a local variable in multiply function.\n",
    "\n",
    "##### Global Variables:\n",
    "\n",
    "On the other hand, this code:\n",
    "\n",
    "       result = 5\n",
    "       def multiply(x,y):\n",
    "          return result\n",
    "       print(multiply(5,2))\n",
    "       print(result)\n",
    "       \n",
    "Will NOT throw an error, but output will be 10 and 5.\n",
    "Because result inside multiply function is a local variable, while result in the first line is a global variable.\n",
    "\n",
    "We can force a variable inside a function to be global using global keyword.\n",
    "\n",
    "          result = 5\n",
    "          def multiply(x,y):\n",
    "            global result\n",
    "            return = x*y\n",
    "            return result\n",
    "          print(multiply(5,2))\n",
    "          print(result)\n",
    "          \n",
    "The output will be 10 and 10.          \n",
    "\n",
    "      "
   ]
  },
  {
   "cell_type": "code",
   "execution_count": 34,
   "metadata": {},
   "outputs": [],
   "source": [
    "def mul(x,y):\n",
    "    result = x*y\n",
    "    print(result)\n",
    "    return result"
   ]
  },
  {
   "cell_type": "code",
   "execution_count": 35,
   "metadata": {},
   "outputs": [
    {
     "name": "stdout",
     "output_type": "stream",
     "text": [
      "8\n",
      "8\n"
     ]
    }
   ],
   "source": [
    "print(mul(4,2))"
   ]
  },
  {
   "cell_type": "code",
   "execution_count": 33,
   "metadata": {},
   "outputs": [
    {
     "ename": "NameError",
     "evalue": "name 'result' is not defined",
     "output_type": "error",
     "traceback": [
      "\u001b[1;31m---------------------------------------------------------------------------\u001b[0m",
      "\u001b[1;31mNameError\u001b[0m                                 Traceback (most recent call last)",
      "\u001b[1;32m<ipython-input-33-6459d04d738f>\u001b[0m in \u001b[0;36m<module>\u001b[1;34m\u001b[0m\n\u001b[1;32m----> 1\u001b[1;33m \u001b[0mprint\u001b[0m\u001b[1;33m(\u001b[0m\u001b[0mresult\u001b[0m\u001b[1;33m)\u001b[0m\u001b[1;33m\u001b[0m\u001b[1;33m\u001b[0m\u001b[0m\n\u001b[0m",
      "\u001b[1;31mNameError\u001b[0m: name 'result' is not defined"
     ]
    }
   ],
   "source": [
    "print(result)\n",
    "#It doesn't print bcz it is a global variable. And if we insert print(result) just before return statement it will print the o/p two times."
   ]
  },
  {
   "cell_type": "code",
   "execution_count": 36,
   "metadata": {},
   "outputs": [],
   "source": [
    "#So, we can include global result statement just after our function to make that print(result) work without any error. For eg:\n",
    "#Defining variable inside function\n",
    "def mul(x,y):\n",
    "    global result\n",
    "    result = x*y\n",
    "    print(result)\n",
    "    return result\n"
   ]
  },
  {
   "cell_type": "code",
   "execution_count": 38,
   "metadata": {},
   "outputs": [
    {
     "name": "stdout",
     "output_type": "stream",
     "text": [
      "10\n",
      "10\n"
     ]
    }
   ],
   "source": [
    "print(mul(5,2))"
   ]
  },
  {
   "cell_type": "code",
   "execution_count": 63,
   "metadata": {},
   "outputs": [
    {
     "name": "stdout",
     "output_type": "stream",
     "text": [
      "10\n"
     ]
    }
   ],
   "source": [
    "print(result)\n",
    "#Here it doesn't shows any error bcz we have included global variable to define that statement.\n"
   ]
  },
  {
   "cell_type": "markdown",
   "metadata": {},
   "source": [
    "##### QUIZ 1:"
   ]
  },
  {
   "cell_type": "code",
   "execution_count": 62,
   "metadata": {},
   "outputs": [
    {
     "ename": "UnboundLocalError",
     "evalue": "local variable 'ball_count' referenced before assignment",
     "output_type": "error",
     "traceback": [
      "\u001b[1;31m---------------------------------------------------------------------------\u001b[0m",
      "\u001b[1;31mUnboundLocalError\u001b[0m                         Traceback (most recent call last)",
      "\u001b[1;32m<ipython-input-62-f499a9d70fa9>\u001b[0m in \u001b[0;36m<module>\u001b[1;34m\u001b[0m\n\u001b[0;32m      5\u001b[0m     \u001b[1;32mreturn\u001b[0m \u001b[0mball_count\u001b[0m\u001b[1;33m\u001b[0m\u001b[1;33m\u001b[0m\u001b[0m\n\u001b[0;32m      6\u001b[0m \u001b[1;33m\u001b[0m\u001b[0m\n\u001b[1;32m----> 7\u001b[1;33m \u001b[0mprint\u001b[0m\u001b[1;33m(\u001b[0m\u001b[0mcount_balls\u001b[0m\u001b[1;33m(\u001b[0m\u001b[1;33m)\u001b[0m\u001b[1;33m)\u001b[0m\u001b[1;33m\u001b[0m\u001b[1;33m\u001b[0m\u001b[0m\n\u001b[0m",
      "\u001b[1;32m<ipython-input-62-f499a9d70fa9>\u001b[0m in \u001b[0;36mcount_balls\u001b[1;34m()\u001b[0m\n\u001b[0;32m      2\u001b[0m \u001b[1;33m\u001b[0m\u001b[0m\n\u001b[0;32m      3\u001b[0m \u001b[1;32mdef\u001b[0m \u001b[0mcount_balls\u001b[0m\u001b[1;33m(\u001b[0m\u001b[1;33m)\u001b[0m\u001b[1;33m:\u001b[0m\u001b[1;33m\u001b[0m\u001b[1;33m\u001b[0m\u001b[0m\n\u001b[1;32m----> 4\u001b[1;33m     \u001b[0mball_count\u001b[0m \u001b[1;33m+=\u001b[0m \u001b[1;36m6\u001b[0m\u001b[1;33m\u001b[0m\u001b[1;33m\u001b[0m\u001b[0m\n\u001b[0m\u001b[0;32m      5\u001b[0m     \u001b[1;32mreturn\u001b[0m \u001b[0mball_count\u001b[0m\u001b[1;33m\u001b[0m\u001b[1;33m\u001b[0m\u001b[0m\n\u001b[0;32m      6\u001b[0m \u001b[1;33m\u001b[0m\u001b[0m\n",
      "\u001b[1;31mUnboundLocalError\u001b[0m: local variable 'ball_count' referenced before assignment"
     ]
    }
   ],
   "source": [
    "ball_count = 0\n",
    " \n",
    "def count_balls():\n",
    "    ball_count += 6 \n",
    "    return ball_count\n",
    " \n",
    "print(count_balls())\n",
    "\n",
    "# Yes ! We will have an UnboundLocalError Because the ball_count variable is a global variable. We can't modify global variables in functions without passing them as arguments."
   ]
  },
  {
   "cell_type": "markdown",
   "metadata": {},
   "source": [
    "#### Doc string:\n",
    "Doc string, short for Documentation strings, is crucial for documenting python functions.\n",
    "Very simple, just use triple quotation strings in the line after the function header.\n",
    "\n",
    "**For example**:\n",
    "\n",
    "       def multiply(x,y):\n",
    "          \"\"\"\n",
    "          Multiply two numbers together and return the result\n",
    "          \"\"\"\n",
    "          result = x*y\n",
    "          return result\n",
    "       print(result)\n",
    "       \n",
    "If we have a complex function, we can add more details to the docstring as follows:\n",
    "\n",
    "        def multiply(x,y):\n",
    "           \"\"\"\n",
    "           Multiply two numbers together snf return the result\n",
    "           INPUT:\n",
    "           Two numbers that should be multiplied\n",
    "           \n",
    "           OUTPUT:\n",
    "           The multiplication result\n",
    "           \"\"\"\n",
    "        m = x*y\n",
    "        return m\n",
    "        \n",
    "We can find the Python conventions for Doc strings:https://www.python.org/dev/peps/pep-0257/\n"
   ]
  },
  {
   "cell_type": "code",
   "execution_count": null,
   "metadata": {},
   "outputs": [],
   "source": []
  }
 ],
 "metadata": {
  "kernelspec": {
   "display_name": "Python 3",
   "language": "python",
   "name": "python3"
  },
  "language_info": {
   "codemirror_mode": {
    "name": "ipython",
    "version": 3
   },
   "file_extension": ".py",
   "mimetype": "text/x-python",
   "name": "python",
   "nbconvert_exporter": "python",
   "pygments_lexer": "ipython3",
   "version": "3.8.5"
  }
 },
 "nbformat": 4,
 "nbformat_minor": 4
}
