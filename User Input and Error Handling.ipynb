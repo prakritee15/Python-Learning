{
 "cells": [
  {
   "cell_type": "markdown",
   "id": "acd237a0",
   "metadata": {},
   "source": [
    "### Topics:\n",
    "- Error Handling\n",
    "- User Input\n",
    "- Syntax Errors\n",
    "- Exceptions"
   ]
  },
  {
   "cell_type": "markdown",
   "id": "7197e46e",
   "metadata": {},
   "source": [
    "## Error Handling:\n",
    "- Almost anything in the world can have errors at some point, especially in programming!\n",
    "- For eg, simple multiplication function: What if we use it with strings?\n",
    "- We will have an *Error!*\n",
    "- In more complex functions and programs, we need to handle even bigger error.\n",
    "\n",
    "#### Types of errors:\n",
    "1. Syntax Error:\n",
    "->We saw it before. Look at it as a grammatical error.\n",
    "->The code won't run under any condition.\n",
    "\n",
    "2. Exception:\n",
    "->Can happen even if there are no syntax errors.\n",
    "->The code will stop if some condition happen.\n",
    "->We need to catch and handle this condition, so code won't stop."
   ]
  },
  {
   "cell_type": "markdown",
   "id": "4701bc07",
   "metadata": {},
   "source": [
    "## Uesr Input:\n",
    "- Many applications work by taking input from the user.\n",
    "- In many cases, we can't prevent the user from using your application incorrectly.\n",
    "- So, we need to handle the expected incorrected inputs.\n",
    "\n",
    "##### Taking input from the user:\n",
    "1. We can read the keyboard input using input built-in function.\n",
    "2. It will wait until the user inserts the input and submit it by clicking enter.\n",
    "3. We can provde a help message for the user."
   ]
  },
  {
   "cell_type": "code",
   "execution_count": 2,
   "id": "0b0b447a",
   "metadata": {},
   "outputs": [
    {
     "name": "stdout",
     "output_type": "stream",
     "text": [
      "pkt\n"
     ]
    }
   ],
   "source": [
    "x= input() # we can consider it as a while loop bcz it will wait for a input indefinitely until we enter anything and click enter."
   ]
  },
  {
   "cell_type": "code",
   "execution_count": 3,
   "id": "876d2ceb",
   "metadata": {},
   "outputs": [
    {
     "name": "stdout",
     "output_type": "stream",
     "text": [
      "pkt\n"
     ]
    }
   ],
   "source": [
    "print(x)\n",
    "# As input is saved, so it will print the one that I entered."
   ]
  },
  {
   "cell_type": "code",
   "execution_count": 8,
   "id": "a5968a1b",
   "metadata": {},
   "outputs": [
    {
     "name": "stdout",
     "output_type": "stream",
     "text": [
      "Please enter a number 4\n"
     ]
    }
   ],
   "source": [
    "z= int(input(\"Please enter a number \"))"
   ]
  },
  {
   "cell_type": "code",
   "execution_count": 9,
   "id": "4b35fb65",
   "metadata": {},
   "outputs": [
    {
     "name": "stdout",
     "output_type": "stream",
     "text": [
      "4\n",
      "<class 'int'>\n"
     ]
    }
   ],
   "source": [
    "print(z)\n",
    "print(type(z))\n",
    "# It will show us type as str but when we add int function in z then it will print as int."
   ]
  },
  {
   "cell_type": "code",
   "execution_count": 10,
   "id": "53853da5",
   "metadata": {},
   "outputs": [
    {
     "name": "stdout",
     "output_type": "stream",
     "text": [
      "Please enter a number3.0\n",
      "<class 'str'>\n"
     ]
    }
   ],
   "source": [
    "#QUIZ:\n",
    "\n",
    "user_input = input(\"Please enter a number\") # Assume that the user enter 3.0\n",
    "print( type(user_input) )\n",
    "\n",
    "#Yes. By default, the input function returns always a string. So you need to convert it to a float or integer if you want."
   ]
  },
  {
   "cell_type": "markdown",
   "id": "bb7d7903",
   "metadata": {},
   "source": [
    "#### Execrcise:\n",
    "Take two numerical user inputs and prints their sum. Store the user input in two variables called input_1 and input_2.\n",
    "\n",
    "- HINTS:\n",
    "We use input function to take the user input.\n",
    "We use int function to convert any variable to an ineteger."
   ]
  },
  {
   "cell_type": "code",
   "execution_count": 13,
   "id": "c5058f82",
   "metadata": {},
   "outputs": [
    {
     "name": "stdout",
     "output_type": "stream",
     "text": [
      "Please enter the first number 4\n",
      "Please enter the second number 5\n",
      "9\n"
     ]
    }
   ],
   "source": [
    "input_1 = int(input(\"Please enter the first number \"))\n",
    "input_2 = int(input(\"Please enter the second number \"))\n",
    "User_input = input_1 + input_2\n",
    "print(User_input)"
   ]
  },
  {
   "cell_type": "code",
   "execution_count": 14,
   "id": "f6440076",
   "metadata": {},
   "outputs": [
    {
     "name": "stdout",
     "output_type": "stream",
     "text": [
      "5\n",
      "6\n",
      "11\n"
     ]
    }
   ],
   "source": [
    "#SECOND Approach:\n",
    "\n",
    "input_1 = int(input())\n",
    "input_2 = int(input())\n",
    "print(input_1 + input_2)"
   ]
  },
  {
   "cell_type": "markdown",
   "id": "320be8fa",
   "metadata": {},
   "source": [
    "## Syntax Error:\n",
    "- Known as parsing errors, as the python interpreter parse the whole code to convert it to byte code before bring executed.\n",
    "- Most common type of errors for beginners.\n",
    "- Easy to understand and overcome.\n",
    "- Unrealted to correctness of the code's logic.\n",
    "- We must fix it for the code to even run.\n",
    "- If there are multiple syntax errors, the code will highlight the fisrt one only.\n",
    "\n",
    "##### How to READ the SYNTAX ERROR:\n",
    "- The output of this code:\n",
    "\n",
    "  first_num = 20\n",
    "  1secondnum = 30\n",
    "  third_num = 50\n",
    "  forth num = 100\n",
    "  \n",
    "- will be as follows:\n",
    "  File \"<ipython-input-15-8981cbeb5e23>\", line 2\n",
    "    1secondnum = 30\n",
    "     ^\n",
    "SyntaxError: invalid syntax\n",
    "\n",
    "THINGS TO REMEMBER:\n",
    "- The file name\n",
    "- The exponent or caret sign\n",
    "- The line number\n",
    "- The error message\n",
    "    \n",
    "FIX THE FIRST ERROR:\n",
    "    If we fix the first error and run the code again.\n",
    "    The code will be interpreted till line 4\n",
    "    This where it will stop as there is another error.\n",
    "    "
   ]
  },
  {
   "cell_type": "markdown",
   "id": "2fedfff0",
   "metadata": {},
   "source": [
    "##  EXCEPTIONS:\n",
    "#### Run time error:\n",
    "- Happens when there is no syntax errors in the code, but the code failed in some cases.\n",
    "- For example, if we have a function that divides two numbers, if the denomenator is zero, then the code will fail and stop.\n",
    "\n",
    "##### Exception Example:\n",
    "- The output of this code:\n",
    "\n",
    "def div(x,y):\n",
    "    result = x/y\n",
    "    return result\n",
    "print(div(5,2))\n",
    "print(div(5,0))\n",
    "print(\"Hello\")\n",
    "\n",
    "- Will be:\n",
    "\n",
    "2.5\n",
    "---------------------------------------------------------------------------\n",
    "ZeroDivisionError                         Traceback (most recent call last)\n",
    "<ipython-input-16-f4b9bf7e71b9> in <module>\n",
    "      3     return result\n",
    "      4 print(div(5,2))\n",
    "----> 5 print(div(5,0))\n",
    "      6 print(\"Hello\")\n",
    "\n",
    "<ipython-input-16-f4b9bf7e71b9> in div(x, y)\n",
    "      1 def div(x,y):\n",
    "----> 2     result = x/y\n",
    "      3     return result\n",
    "      4 print(div(5,2))\n",
    "      5 print(div(5,0))\n",
    "\n",
    "ZeroDivisionError: division by zero\n",
    "\n",
    "- As we see code stop at line 6 because there is a string as input.\n",
    "    \n",
    "    \n"
   ]
  },
  {
   "cell_type": "markdown",
   "id": "ee6dbab5",
   "metadata": {},
   "source": [
    "##### BUILT-IN VS USER-DEFINED Exceptions:\n",
    "- Thr error message specified that it is a Zero Division exception.\n",
    "- But python comes with dozens of built-in exceptions, which we can check in python website that is: https://docs.python.org/3/library/exceptions.html#bltin-exceptions.\n",
    "- We can also ave our own excpetion message if a condition is met using raise EXCEPTION.\n",
    "\n",
    "##### USER-Defined Exception Example:\n",
    "- The following is an example of a user-defined exception.\n"
   ]
  },
  {
   "cell_type": "code",
   "execution_count": 17,
   "id": "a93e6cde",
   "metadata": {},
   "outputs": [
    {
     "ename": "Exception",
     "evalue": "First number should be less than the second number",
     "output_type": "error",
     "traceback": [
      "\u001b[1;31m---------------------------------------------------------------------------\u001b[0m",
      "\u001b[1;31mException\u001b[0m                                 Traceback (most recent call last)",
      "\u001b[1;32m<ipython-input-17-4d29c1318190>\u001b[0m in \u001b[0;36m<module>\u001b[1;34m\u001b[0m\n\u001b[0;32m      4\u001b[0m \u001b[0msecond_num\u001b[0m \u001b[1;33m=\u001b[0m \u001b[1;36m7\u001b[0m\u001b[1;33m\u001b[0m\u001b[1;33m\u001b[0m\u001b[0m\n\u001b[0;32m      5\u001b[0m \u001b[1;32mif\u001b[0m \u001b[0mfirst_num\u001b[0m \u001b[1;33m>\u001b[0m \u001b[0msecond_num\u001b[0m\u001b[1;33m:\u001b[0m\u001b[1;33m\u001b[0m\u001b[1;33m\u001b[0m\u001b[0m\n\u001b[1;32m----> 6\u001b[1;33m     \u001b[1;32mraise\u001b[0m \u001b[0mException\u001b[0m\u001b[1;33m(\u001b[0m\u001b[1;34m\"First number should be less than the second number\"\u001b[0m\u001b[1;33m)\u001b[0m\u001b[1;33m\u001b[0m\u001b[1;33m\u001b[0m\u001b[0m\n\u001b[0m",
      "\u001b[1;31mException\u001b[0m: First number should be less than the second number"
     ]
    }
   ],
   "source": [
    "#EXAMPLE:\n",
    "\n",
    "first_num = 10\n",
    "second_num = 7\n",
    "if first_num > second_num:\n",
    "    raise Exception(\"First number should be less than the second number\")\n",
    "    \n",
    "#If we run this code and it will shhow the error with our exception statement.    \n",
    "    "
   ]
  },
  {
   "cell_type": "markdown",
   "id": "bb86beab",
   "metadata": {},
   "source": [
    "#### Assertion:\n",
    "- We can use another keyword--assert-for detecting bugs more clearly in our code.\n",
    "\n",
    "first_num =  10\n",
    "second_num = 7\n",
    "assert first_num < second_num\n",
    "\n",
    "\n",
    "##### Assert VS Raise: \n",
    "- raise: Raise an exception\n",
    "- assert: raise an exception if a cndition is not met.\n",
    "\n",
    "#### DIFFERENCE between RAISE, TRY and ASSERT(Stack Overflow):\n",
    "Assert:\n",
    "\n",
    "Used when you want to \"stop\" the script based on a certain condition and return something to help debug faster:\n",
    "\n",
    "list_ = [\"a\",\"b\",\"x\"]\n",
    "assert \"x\" in list_, \"x is not in the list\"\n",
    "print(\"passed\") \n",
    "#>> prints passed\n",
    "\n",
    "list_ = [\"a\",\"b\",\"c\"]\n",
    "assert \"x\" in list_, \"x is not in the list\"\n",
    "print(\"passed\")\n",
    "#>> \n",
    "Traceback (most recent call last):\n",
    "  File \"python\", line 2, in <module>\n",
    "AssertionError: x is not in the list\n",
    "    \n",
    "    \n",
    " Raise:\n",
    "\n",
    "Two reasons where this is useful:\n",
    "\n",
    "1/ To be used with try and except blocks. Raise an error of your choosing, could be custom like below and doesn't stop the script if you pass or continue the script; or can be predefined errors raise ValueError()\n",
    "\n",
    "class Custom_error(BaseException):\n",
    "    pass\n",
    "\n",
    "try:\n",
    "    print(\"hello\")\n",
    "    raise Custom_error\n",
    "    print(\"world\")\n",
    "except Custom_error:\n",
    "    print(\"found it not stopping now\")\n",
    "\n",
    "print(\"im outside\")\n",
    "\n",
    ">> hello\n",
    ">> found it not stopping now\n",
    ">> im outside\n",
    "Noticed it didn't stop? We can stop it using just exit(1) in the except block.\n",
    "\n",
    "2/ Raise can also be used to re-raise the current error to pass it up the stack to see if something else can handle it.\n",
    "\n",
    "except SomeError, e:\n",
    "     if not can_handle(e):\n",
    "          raise\n",
    "     someone_take_care_of_it(e)\n",
    "Try/Except blocks:\n",
    "\n",
    "Does exactly what you think, tries something if an error comes up you catch it and deal with it however you like. No example since there's one above.\n",
    "   "
   ]
  },
  {
   "cell_type": "code",
   "execution_count": 18,
   "id": "f8a6bc67",
   "metadata": {},
   "outputs": [
    {
     "ename": "AssertionError",
     "evalue": "",
     "output_type": "error",
     "traceback": [
      "\u001b[1;31m---------------------------------------------------------------------------\u001b[0m",
      "\u001b[1;31mAssertionError\u001b[0m                            Traceback (most recent call last)",
      "\u001b[1;32m<ipython-input-18-ab295cd5deb5>\u001b[0m in \u001b[0;36m<module>\u001b[1;34m\u001b[0m\n\u001b[0;32m      1\u001b[0m \u001b[0mfirst_num\u001b[0m \u001b[1;33m=\u001b[0m  \u001b[1;36m10\u001b[0m\u001b[1;33m\u001b[0m\u001b[1;33m\u001b[0m\u001b[0m\n\u001b[0;32m      2\u001b[0m \u001b[0msecond_num\u001b[0m \u001b[1;33m=\u001b[0m \u001b[1;36m7\u001b[0m\u001b[1;33m\u001b[0m\u001b[1;33m\u001b[0m\u001b[0m\n\u001b[1;32m----> 3\u001b[1;33m \u001b[1;32massert\u001b[0m \u001b[0mfirst_num\u001b[0m \u001b[1;33m<\u001b[0m \u001b[0msecond_num\u001b[0m\u001b[1;33m\u001b[0m\u001b[1;33m\u001b[0m\u001b[0m\n\u001b[0m",
      "\u001b[1;31mAssertionError\u001b[0m: "
     ]
    }
   ],
   "source": [
    "first_num =  10\n",
    "second_num = 7\n",
    "assert first_num < second_num\n",
    "\n",
    "# It will give the error bcz 3rd ine is incorrect."
   ]
  },
  {
   "cell_type": "code",
   "execution_count": 19,
   "id": "71e13f4b",
   "metadata": {},
   "outputs": [
    {
     "ename": "ZeroDivisionError",
     "evalue": "division by zero",
     "output_type": "error",
     "traceback": [
      "\u001b[1;31m---------------------------------------------------------------------------\u001b[0m",
      "\u001b[1;31mZeroDivisionError\u001b[0m                         Traceback (most recent call last)",
      "\u001b[1;32m<ipython-input-19-d52329b99d8e>\u001b[0m in \u001b[0;36m<module>\u001b[1;34m\u001b[0m\n\u001b[0;32m      1\u001b[0m \u001b[0mx\u001b[0m \u001b[1;33m=\u001b[0m \u001b[1;36m1\u001b[0m\u001b[1;33m\u001b[0m\u001b[1;33m\u001b[0m\u001b[0m\n\u001b[0;32m      2\u001b[0m \u001b[0my\u001b[0m \u001b[1;33m=\u001b[0m \u001b[1;36m0\u001b[0m\u001b[1;33m\u001b[0m\u001b[1;33m\u001b[0m\u001b[0m\n\u001b[1;32m----> 3\u001b[1;33m \u001b[0mz\u001b[0m \u001b[1;33m=\u001b[0m \u001b[0mx\u001b[0m\u001b[1;33m/\u001b[0m\u001b[0my\u001b[0m\u001b[1;33m\u001b[0m\u001b[1;33m\u001b[0m\u001b[0m\n\u001b[0m\u001b[0;32m      4\u001b[0m \u001b[0mprint\u001b[0m\u001b[1;33m(\u001b[0m\u001b[1;34m\"Hello\"\u001b[0m\u001b[1;33m)\u001b[0m\u001b[1;33m\u001b[0m\u001b[1;33m\u001b[0m\u001b[0m\n",
      "\u001b[1;31mZeroDivisionError\u001b[0m: division by zero"
     ]
    }
   ],
   "source": [
    "x = 1\n",
    "y = 0\n",
    "z = x/y\n",
    "print(\"Hello\")"
   ]
  },
  {
   "cell_type": "code",
   "execution_count": 20,
   "id": "1af6205a",
   "metadata": {},
   "outputs": [
    {
     "ename": "NameError",
     "evalue": "name 'a' is not defined",
     "output_type": "error",
     "traceback": [
      "\u001b[1;31m---------------------------------------------------------------------------\u001b[0m",
      "\u001b[1;31mNameError\u001b[0m                                 Traceback (most recent call last)",
      "\u001b[1;32m<ipython-input-20-bca0e2660b9f>\u001b[0m in \u001b[0;36m<module>\u001b[1;34m\u001b[0m\n\u001b[1;32m----> 1\u001b[1;33m \u001b[0mprint\u001b[0m\u001b[1;33m(\u001b[0m\u001b[0ma\u001b[0m\u001b[1;33m)\u001b[0m\u001b[1;33m\u001b[0m\u001b[1;33m\u001b[0m\u001b[0m\n\u001b[0m",
      "\u001b[1;31mNameError\u001b[0m: name 'a' is not defined"
     ]
    }
   ],
   "source": [
    "print(a)\n",
    "#Here a is not defined that is called exception."
   ]
  },
  {
   "cell_type": "code",
   "execution_count": 21,
   "id": "29c0fa70",
   "metadata": {},
   "outputs": [
    {
     "ename": "TypeError",
     "evalue": "unsupported operand type(s) for +: 'int' and 'str'",
     "output_type": "error",
     "traceback": [
      "\u001b[1;31m---------------------------------------------------------------------------\u001b[0m",
      "\u001b[1;31mTypeError\u001b[0m                                 Traceback (most recent call last)",
      "\u001b[1;32m<ipython-input-21-03b0bc6ba911>\u001b[0m in \u001b[0;36m<module>\u001b[1;34m\u001b[0m\n\u001b[1;32m----> 1\u001b[1;33m \u001b[1;36m2\u001b[0m \u001b[1;33m+\u001b[0m \u001b[1;34m\"a\"\u001b[0m\u001b[1;33m\u001b[0m\u001b[1;33m\u001b[0m\u001b[0m\n\u001b[0m",
      "\u001b[1;31mTypeError\u001b[0m: unsupported operand type(s) for +: 'int' and 'str'"
     ]
    }
   ],
   "source": [
    "2 + \"a\""
   ]
  },
  {
   "cell_type": "code",
   "execution_count": 1,
   "id": "826d68b8",
   "metadata": {},
   "outputs": [
    {
     "ename": "Exception",
     "evalue": "This is incorrect",
     "output_type": "error",
     "traceback": [
      "\u001b[1;31m---------------------------------------------------------------------------\u001b[0m",
      "\u001b[1;31mException\u001b[0m                                 Traceback (most recent call last)",
      "\u001b[1;32m<ipython-input-1-08cd02acb75c>\u001b[0m in \u001b[0;36m<module>\u001b[1;34m\u001b[0m\n\u001b[0;32m      2\u001b[0m \u001b[0my\u001b[0m \u001b[1;33m=\u001b[0m \u001b[1;36m20\u001b[0m\u001b[1;33m\u001b[0m\u001b[1;33m\u001b[0m\u001b[0m\n\u001b[0;32m      3\u001b[0m \u001b[1;32mif\u001b[0m \u001b[0mx\u001b[0m\u001b[1;33m<\u001b[0m \u001b[0my\u001b[0m\u001b[1;33m:\u001b[0m\u001b[1;33m\u001b[0m\u001b[1;33m\u001b[0m\u001b[0m\n\u001b[1;32m----> 4\u001b[1;33m     \u001b[1;32mraise\u001b[0m \u001b[0mException\u001b[0m\u001b[1;33m(\u001b[0m\u001b[1;34m\"This is incorrect\"\u001b[0m\u001b[1;33m)\u001b[0m\u001b[1;33m\u001b[0m\u001b[1;33m\u001b[0m\u001b[0m\n\u001b[0m\u001b[0;32m      5\u001b[0m \u001b[0mprint\u001b[0m\u001b[1;33m(\u001b[0m\u001b[1;34m\"hello\"\u001b[0m\u001b[1;33m)\u001b[0m\u001b[1;33m\u001b[0m\u001b[1;33m\u001b[0m\u001b[0m\n",
      "\u001b[1;31mException\u001b[0m: This is incorrect"
     ]
    }
   ],
   "source": [
    "x = 10\n",
    "y = 20\n",
    "if x< y:\n",
    "    raise Exception(\"This is incorrect\")\n",
    "print(\"hello\")    "
   ]
  },
  {
   "cell_type": "code",
   "execution_count": 3,
   "id": "92593d5a",
   "metadata": {},
   "outputs": [
    {
     "ename": "AssertionError",
     "evalue": "",
     "output_type": "error",
     "traceback": [
      "\u001b[1;31m---------------------------------------------------------------------------\u001b[0m",
      "\u001b[1;31mAssertionError\u001b[0m                            Traceback (most recent call last)",
      "\u001b[1;32m<ipython-input-3-f1920afd02f1>\u001b[0m in \u001b[0;36m<module>\u001b[1;34m\u001b[0m\n\u001b[0;32m      1\u001b[0m \u001b[0mx\u001b[0m \u001b[1;33m=\u001b[0m \u001b[1;36m30\u001b[0m\u001b[1;33m\u001b[0m\u001b[1;33m\u001b[0m\u001b[0m\n\u001b[0;32m      2\u001b[0m \u001b[0my\u001b[0m  \u001b[1;33m=\u001b[0m \u001b[1;36m20\u001b[0m\u001b[1;33m\u001b[0m\u001b[1;33m\u001b[0m\u001b[0m\n\u001b[1;32m----> 3\u001b[1;33m \u001b[1;32massert\u001b[0m \u001b[0mx\u001b[0m \u001b[1;33m<\u001b[0m \u001b[0my\u001b[0m\u001b[1;33m\u001b[0m\u001b[1;33m\u001b[0m\u001b[0m\n\u001b[0m\u001b[0;32m      4\u001b[0m \u001b[0mprint\u001b[0m\u001b[1;33m(\u001b[0m\u001b[1;34m\"hello\"\u001b[0m\u001b[1;33m)\u001b[0m\u001b[1;33m\u001b[0m\u001b[1;33m\u001b[0m\u001b[0m\n",
      "\u001b[1;31mAssertionError\u001b[0m: "
     ]
    }
   ],
   "source": [
    "x = 30\n",
    "y  = 20\n",
    "assert x < y\n",
    "print(\"hello\")"
   ]
  },
  {
   "cell_type": "code",
   "execution_count": 4,
   "id": "3dbbc06d",
   "metadata": {},
   "outputs": [
    {
     "ename": "KeyError",
     "evalue": "2",
     "output_type": "error",
     "traceback": [
      "\u001b[1;31m---------------------------------------------------------------------------\u001b[0m",
      "\u001b[1;31mKeyError\u001b[0m                                  Traceback (most recent call last)",
      "\u001b[1;32m<ipython-input-4-4cc1d264346a>\u001b[0m in \u001b[0;36m<module>\u001b[1;34m\u001b[0m\n\u001b[0;32m      1\u001b[0m \u001b[0mdict_quiz\u001b[0m \u001b[1;33m=\u001b[0m \u001b[1;33m{\u001b[0m \u001b[1;36m1\u001b[0m \u001b[1;33m:\u001b[0m \u001b[1;36m10\u001b[0m \u001b[1;33m,\u001b[0m \u001b[1;36m20\u001b[0m \u001b[1;33m:\u001b[0m \u001b[1;36m3\u001b[0m \u001b[1;33m}\u001b[0m\u001b[1;33m\u001b[0m\u001b[1;33m\u001b[0m\u001b[0m\n\u001b[1;32m----> 2\u001b[1;33m \u001b[0mprint\u001b[0m\u001b[1;33m(\u001b[0m \u001b[0mdict_quiz\u001b[0m\u001b[1;33m[\u001b[0m \u001b[1;36m2\u001b[0m \u001b[1;33m]\u001b[0m \u001b[1;33m)\u001b[0m\u001b[1;33m\u001b[0m\u001b[1;33m\u001b[0m\u001b[0m\n\u001b[0m",
      "\u001b[1;31mKeyError\u001b[0m: 2"
     ]
    }
   ],
   "source": [
    "#QUIZ 1: What is the exception in this code: KEYERROR\n",
    "dict_quiz = { 1 : 10 , 20 : 3 }\n",
    "print( dict_quiz[ 2 ] )\n",
    "\n",
    "#That right. According to Python docs, Key Error is raised when a mapping (dictionary) key is not found in the set of existing keys."
   ]
  },
  {
   "cell_type": "markdown",
   "id": "19f7b33b",
   "metadata": {},
   "source": [
    "#### HANDLING EXCEPTIONS:\n",
    "\n",
    "- So far, any exceptions will break the code and any lines after the exception won't be executed.\n",
    "- Therefore, we need to catch and handle the errors.\n",
    "\n",
    "##### Using TRY and EXCEPT:\n",
    "\n",
    "- We handle exceptions using a block of try and except.\n",
    "- Inside try body, we write the code that we want to execute, but we suspect it may throw an error.\n",
    "- Inside the excet body, we write the code that should be executed if an exception occurs.\n",
    "\n",
    "- After modifying the division function to handle exception:\n",
    "\n",
    "def div(x,y):\n",
    "    try:\n",
    "        result = x/y\n",
    "    except:\n",
    "        result = \"Can't divide by Zero\"\n",
    "    return result\n",
    "print(div(5,2))\n",
    "print(div(5,0))\n",
    "print(\"Hello\")\n",
    "\n",
    "\n",
    "- The code won't stop, and the result will be:\n",
    "\n",
    "2.5\n",
    "can't divide by Zero\n",
    "Hello\n",
    "\n",
    "- When we divide by Zero exception occurs instead throwing an error.\n",
    "\n",
    "###### Be Cautions with EXCEPTIONS:\n",
    "\n",
    "- You should always be specific/cautions with the exception!\n",
    "- Otherwise, you might catch exceptions that you don't want to.\n",
    "- Or, you might neglect bugs that should be handled.\n",
    "- Because using generic except hides all the error!\n",
    "\n",
    "-- If we use the same code as above but insert assert x == y, that is:\n",
    "\n",
    "def div(x,y):\n",
    "    try:\n",
    "        assert x == y\n",
    "        result = x/y\n",
    "    except:\n",
    "        result = \"Can't divide by Zero\"\n",
    "    return result\n",
    "print(div(5,2))\n",
    "print(div(5,0))\n",
    "print(\"Hello\")\n",
    "\n",
    "- It will show an output as:\n",
    "can't divide b zero (BCZ here 5 is not equal to 2)\n",
    "can't divide by zero\n",
    "Hello\n",
    "\n",
    "\n"
   ]
  },
  {
   "cell_type": "code",
   "execution_count": 6,
   "id": "a79efa61",
   "metadata": {},
   "outputs": [
    {
     "name": "stdout",
     "output_type": "stream",
     "text": [
      "2.5\n",
      "Can't divide by Zero\n",
      "Hello\n"
     ]
    }
   ],
   "source": [
    "def div(x,y):\n",
    "    try:\n",
    "        result = x/y\n",
    "    except:\n",
    "        result = \"Can't divide by Zero\"\n",
    "    return result\n",
    "print(div(5,2))\n",
    "print(div(5,0))\n",
    "print(\"Hello\")"
   ]
  },
  {
   "cell_type": "code",
   "execution_count": 14,
   "id": "0741ca96",
   "metadata": {},
   "outputs": [],
   "source": [
    "def div(x,y):\n",
    "    try:\n",
    "        result = x/y\n",
    "    except:\n",
    "        result = \"Warning, can't divide by Zero!!!!\"\n",
    "    return result"
   ]
  },
  {
   "cell_type": "code",
   "execution_count": 15,
   "id": "783a4450",
   "metadata": {},
   "outputs": [
    {
     "name": "stdout",
     "output_type": "stream",
     "text": [
      "0.5\n",
      "Warning, can't divide by Zero!!!!\n",
      "Hello\n"
     ]
    }
   ],
   "source": [
    "print(div(1,2))\n",
    "print(div(1,0))\n",
    "print(\"Hello\")"
   ]
  },
  {
   "cell_type": "markdown",
   "id": "7a439eb8",
   "metadata": {},
   "source": [
    "#### Handling Multiple Exceptions PART2:\n",
    "\n",
    "- We can have as many exceptions as we want.\n",
    "- Just like conditional statements, the first exception is the only one that will be executed, and the other will be ignored.\n",
    "\n",
    "##### TRY EXCEPT ELSE:\n",
    "\n",
    "- Just like the if condition, you can add an else clause while handling errors.\n",
    "\n",
    "##### FINALLY:\n",
    "\n",
    "- The finally clause runs whether the try statement produces an exception or not.\n",
    "- If a finally clause is present, the finally clause will execute as the last task before the try statement completes.\n",
    "- If the exception is not handled by an except clause, the exception is re-raised after the finally clause has been executed.\n",
    "\n",
    "- If the try statement reaches a break, continue or return statement. The finally clause will execute just prior to the break, continue or return statemennt's execution.\n",
    "- If a finally clause includes a return statement, the returned value will be the one from the finally clause's return statement, not the value from the try clause's return statement.\n",
    "\n",
    "EXAMPLES:\n",
    "\n"
   ]
  },
  {
   "cell_type": "code",
   "execution_count": 17,
   "id": "18b0e766",
   "metadata": {},
   "outputs": [
    {
     "name": "stdout",
     "output_type": "stream",
     "text": [
      "2.0\n",
      "Error:x is less than y\n",
      "0.5\n",
      "Can't divide by Zero\n",
      "Hello\n"
     ]
    }
   ],
   "source": [
    "def div(x,y):\n",
    "    try:\n",
    "        result = x/y\n",
    "        assert x >= y\n",
    "    except ZeroDivisionError:\n",
    "        result = \"Can't divide by Zero\"\n",
    "    except AssertionError:\n",
    "        print(\"Error:x is less than y\")\n",
    "    return result\n",
    "print(div(6,3))\n",
    "print(div(4,8))\n",
    "print(div(5,0))\n",
    "print(\"Hello\")"
   ]
  },
  {
   "cell_type": "code",
   "execution_count": 20,
   "id": "58c9d8ae",
   "metadata": {},
   "outputs": [
    {
     "data": {
      "text/plain": [
       "True"
      ]
     },
     "execution_count": 20,
     "metadata": {},
     "output_type": "execute_result"
    }
   ],
   "source": [
    "def bool_return():\n",
    "    try:\n",
    "        return True\n",
    "    except:\n",
    "        return False\n",
    "bool_return()    "
   ]
  },
  {
   "cell_type": "code",
   "execution_count": 21,
   "id": "6150df75",
   "metadata": {},
   "outputs": [
    {
     "name": "stdout",
     "output_type": "stream",
     "text": [
      "Result is  2.0\n",
      "Executing finally clause\n",
      "Dividion by Zero!!\n",
      "Executing finally clause\n",
      "Executing finally clause\n"
     ]
    },
    {
     "ename": "TypeError",
     "evalue": "unsupported operand type(s) for /: 'str' and 'str'",
     "output_type": "error",
     "traceback": [
      "\u001b[1;31m---------------------------------------------------------------------------\u001b[0m",
      "\u001b[1;31mTypeError\u001b[0m                                 Traceback (most recent call last)",
      "\u001b[1;32m<ipython-input-21-b6cae3c28fc2>\u001b[0m in \u001b[0;36m<module>\u001b[1;34m\u001b[0m\n\u001b[0;32m     13\u001b[0m \u001b[0mdivide\u001b[0m\u001b[1;33m(\u001b[0m\u001b[1;36m2\u001b[0m\u001b[1;33m,\u001b[0m\u001b[1;36m1\u001b[0m\u001b[1;33m)\u001b[0m\u001b[1;33m\u001b[0m\u001b[1;33m\u001b[0m\u001b[0m\n\u001b[0;32m     14\u001b[0m \u001b[0mdivide\u001b[0m\u001b[1;33m(\u001b[0m\u001b[1;36m2\u001b[0m\u001b[1;33m,\u001b[0m\u001b[1;36m0\u001b[0m\u001b[1;33m)\u001b[0m\u001b[1;33m\u001b[0m\u001b[1;33m\u001b[0m\u001b[0m\n\u001b[1;32m---> 15\u001b[1;33m \u001b[0mdivide\u001b[0m\u001b[1;33m(\u001b[0m\u001b[1;34m\"2\"\u001b[0m\u001b[1;33m,\u001b[0m\u001b[1;34m\"1\"\u001b[0m\u001b[1;33m)\u001b[0m\u001b[1;33m\u001b[0m\u001b[1;33m\u001b[0m\u001b[0m\n\u001b[0m",
      "\u001b[1;32m<ipython-input-21-b6cae3c28fc2>\u001b[0m in \u001b[0;36mdivide\u001b[1;34m(x, y)\u001b[0m\n\u001b[0;32m      4\u001b[0m \u001b[1;32mdef\u001b[0m \u001b[0mdivide\u001b[0m\u001b[1;33m(\u001b[0m\u001b[0mx\u001b[0m\u001b[1;33m,\u001b[0m\u001b[0my\u001b[0m\u001b[1;33m)\u001b[0m\u001b[1;33m:\u001b[0m\u001b[1;33m\u001b[0m\u001b[1;33m\u001b[0m\u001b[0m\n\u001b[0;32m      5\u001b[0m     \u001b[1;32mtry\u001b[0m\u001b[1;33m:\u001b[0m\u001b[1;33m\u001b[0m\u001b[1;33m\u001b[0m\u001b[0m\n\u001b[1;32m----> 6\u001b[1;33m         \u001b[0mresult\u001b[0m\u001b[1;33m=\u001b[0m \u001b[0mx\u001b[0m\u001b[1;33m/\u001b[0m\u001b[0my\u001b[0m\u001b[1;33m\u001b[0m\u001b[1;33m\u001b[0m\u001b[0m\n\u001b[0m\u001b[0;32m      7\u001b[0m     \u001b[1;32mexcept\u001b[0m \u001b[0mZeroDivisionError\u001b[0m\u001b[1;33m:\u001b[0m\u001b[1;33m\u001b[0m\u001b[1;33m\u001b[0m\u001b[0m\n\u001b[0;32m      8\u001b[0m         \u001b[0mprint\u001b[0m\u001b[1;33m(\u001b[0m\u001b[1;34m\"Dividion by Zero!!\"\u001b[0m\u001b[1;33m)\u001b[0m\u001b[1;33m\u001b[0m\u001b[1;33m\u001b[0m\u001b[0m\n",
      "\u001b[1;31mTypeError\u001b[0m: unsupported operand type(s) for /: 'str' and 'str'"
     ]
    }
   ],
   "source": [
    "# This code will be re-executed after finally.\n",
    "# So, an error will be thrown in the third case.\n",
    "\n",
    "def divide(x,y):\n",
    "    try:\n",
    "        result= x/y\n",
    "    except ZeroDivisionError:\n",
    "        print(\"Dividion by Zero!!\")\n",
    "    else:\n",
    "        print(\"Result is \", result)\n",
    "    finally:\n",
    "        print(\"Executing finally clause\")\n",
    "divide(2,1)\n",
    "divide(2,0)\n",
    "divide(\"2\",\"1\")"
   ]
  },
  {
   "cell_type": "markdown",
   "id": "4c57d786",
   "metadata": {},
   "source": [
    "#### Handling Exceptions Exercise:\n",
    "\n",
    "The following function I have written WILL NOT work if I gave it 0 as the second input.\n",
    "Now, your mission is to handle this exception using a **try** and **except** block.\n",
    "\n",
    "You should first try to divide the two numbers. Then, if an exception occurs, you will return a message saying \"Can't divide by Zero, Please enter another number\".\n"
   ]
  },
  {
   "cell_type": "code",
   "execution_count": 3,
   "id": "bd4e6f69",
   "metadata": {},
   "outputs": [
    {
     "name": "stdout",
     "output_type": "stream",
     "text": [
      "8.0\n",
      "Can't divide by zero, Please enter another number\n"
     ]
    }
   ],
   "source": [
    "def div(numerator, denominator):\n",
    "    try:   \n",
    "        result = numerator / denominator\n",
    "    except:\n",
    "        result = \"Can't divide by zero, Please enter another number\"\n",
    "    return result\n",
    "\n",
    "res_1 = div(24,3)\n",
    "print(res_1)\n",
    "\n",
    "res_2 = div(24,0)\n",
    "print(res_2)"
   ]
  },
  {
   "cell_type": "code",
   "execution_count": 4,
   "id": "c2950de2",
   "metadata": {},
   "outputs": [
    {
     "name": "stdout",
     "output_type": "stream",
     "text": [
      "No problem\n",
      "Inside finally clause\n"
     ]
    }
   ],
   "source": [
    "#QUIZ: What is the output of this code?\n",
    "x = 10\n",
    "try:\n",
    "    x > 5\n",
    "except:\n",
    "    print(\"There is an exception \")\n",
    "else:\n",
    "    print(\"No problem\")\n",
    "finally:\n",
    "    print(\"Inside finally clause\")"
   ]
  },
  {
   "cell_type": "code",
   "execution_count": null,
   "id": "20791955",
   "metadata": {},
   "outputs": [],
   "source": []
  }
 ],
 "metadata": {
  "kernelspec": {
   "display_name": "Python 3",
   "language": "python",
   "name": "python3"
  },
  "language_info": {
   "codemirror_mode": {
    "name": "ipython",
    "version": 3
   },
   "file_extension": ".py",
   "mimetype": "text/x-python",
   "name": "python",
   "nbconvert_exporter": "python",
   "pygments_lexer": "ipython3",
   "version": "3.8.8"
  }
 },
 "nbformat": 4,
 "nbformat_minor": 5
}
